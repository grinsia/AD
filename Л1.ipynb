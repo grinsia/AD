{
 "cells": [
  {
   "cell_type": "markdown",
   "metadata": {
    "toc": true
   },
   "source": [
    "<h1>Table of Contents<span class=\"tocSkip\"></span></h1>\n",
    "<div class=\"toc\"><ul class=\"toc-item\"><li><span><a href=\"#Тема-1.-Введение-в-программирование-на-языке-Python\" data-toc-modified-id=\"Тема-1.-Введение-в-программирование-на-языке-Python-1\"><span class=\"toc-item-num\">1&nbsp;&nbsp;</span>Тема 1. Введение в программирование на языке Python</a></span></li><li><span><a href=\"#Задания\" data-toc-modified-id=\"Задания-2\"><span class=\"toc-item-num\">2&nbsp;&nbsp;</span>Задания</a></span></li><li><span><a href=\"#1.-Числовые-и-строковые-типы-данных-языка-Python.-Управляющие-конструкции.\" data-toc-modified-id=\"1.-Числовые-и-строковые-типы-данных-языка-Python.-Управляющие-конструкции.-3\"><span class=\"toc-item-num\">3&nbsp;&nbsp;</span>1. Числовые и строковые типы данных языка Python. Управляющие конструкции.</a></span><ul class=\"toc-item\"><li><span><a href=\"#1.1.-Работа-с-числами.-Базовые-числовые-типы-int-и-float\" data-toc-modified-id=\"1.1.-Работа-с-числами.-Базовые-числовые-типы-int-и-float-3.1\"><span class=\"toc-item-num\">3.1&nbsp;&nbsp;</span>1.1. Работа с числами. Базовые числовые типы int и float</a></span></li><li><span><a href=\"#1.2.-Строки,-функции-и-методы-работы-со-строками\" data-toc-modified-id=\"1.2.-Строки,-функции-и-методы-работы-со-строками-3.2\"><span class=\"toc-item-num\">3.2&nbsp;&nbsp;</span>1.2. Строки, функции и методы работы со строками</a></span></li></ul></li></ul></div>"
   ]
  },
  {
   "cell_type": "markdown",
   "metadata": {},
   "source": [
    "\n",
    "# Тема 1. Введение в программирование на языке Python"
   ]
  },
  {
   "cell_type": "markdown",
   "metadata": {},
   "source": [
    "# Задания\n",
    "\n",
    "Выполните задания\n",
    "\n",
    "# 1. Числовые и строковые типы данных языка Python. Управляющие конструкции.\n",
    "\n",
    "## 1.1. Работа с числами. Базовые числовые типы int и float\n",
    "\n",
    "1. Значения переменных А и В ввести с клавиатуры и вывести на экран. После этого значения меняются местами, т.е. A нужно присвоить значение B, а B – значение A, и вновь значения переменных вывести на экран.\n",
    "\n",
    "2. Значение x вводится с клавиатуры. Вычислите $y=(x+1)^2\\cdot \\sqrt{x^3+1}$ Выведите на экран значения $x$ и $y$ с тремя знаками после запятой.\n",
    "\n",
    "3. Вычислите сумму цифр пятизначного числа.\n",
    "\n",
    "4. Для заданного трехзначного числа выведите число, у которого цифры идут в обратном порядке, например, для числа 123 ответ 321.\n",
    "\n",
    "5. Ввести координаты 2 точек: $(x_1,y_1)$ и $(x_2,y_2)$. Вычислите расстояние между этими точками.  Результат выведите с 5 знаками после запятой.\n",
    "\n",
    "6. Разработать программу вычисления по известному радиусу площади круга и длины окружности.\n",
    "\n",
    "7. Разработать программу по вычислению площади кольца по известным значениям его внешнего и внутреннего радиусов.\n",
    "\n",
    "8. Разработать программу вычисления радиуса круга и его площади по известной длине окружности.\n",
    "\n",
    "9. Разработать программу вычисления объема шара: а) по радиусу; б) по длине его экваториальной параллели. Объём шара рассчитывается по формуле $V=\\frac{4}{3}\\pi{r^3}$, где $r$ - радиус.\n",
    "\n",
    "10. Имеются два $n$–мерных вектора $x$ и $y$, которые задают координаты $n$ точек на плоскости (случайные целые числа). Найти наиболее близкие друг другу точки.\n",
    "\n",
    "11. Треугольник задан координатами своих вершин: $(x_1,y_1),(x_2,y_2),(x_3,y_3)$. Значения координат определите с помощью присваивания. Они могут быть нецелыми. Найти периметр и площадь треугольника.\n",
    "\n",
    "12. Пусть пользователь вводит 5 чисел: а, b, c, d, e. Реализуйте программу расчета выражения вида $res=\\frac{a+bc}{2d-e}+Ost[b^e/c]$, где $Ost$ - остаток от деления. Учесть невозможность деления на 0.\n",
    "\n",
    "\n",
    "## 1.2. Строки, функции и методы работы со строками\n",
    "\n",
    "1. Введите строку, состоящую из двух цифр. Преобразуйте ее в целое и вещественное число. Выведите полученные три значения (строку, целое число, вещественное число) на экран в одной строке через запятую, затем пропустите строку и вновь выведите значения по одному на строке. Перед каждым значением выведите его тип.\n",
    "\n",
    "2. Для строки 'Финансовый университет' двумя способами получить подстроку с 1-го по 4-й символы включительно.\n",
    "\n",
    "3. Составить строку из всех четных символов строки 'Финансовый университет'.\n",
    "\n",
    "4. Получить подстроку неизвестной заранее строки, содержащую половину символов строки и расположенную посередине строки.\n",
    "\n",
    "5. Коротко записать создание строки 'oneoneoneoneoneonetwotwotwo'\n",
    "\n",
    "6. Для введенной строки выведите (на отдельной строке):\n",
    "- второй символ этой строки;\n",
    "- предпоследний символ этой строки;\n",
    "- всю строку, кроме последних двух символов;\n",
    "- все символы с четными индексами (считая, что индексация начинается с 0, поэтому символы выводятся, начиная с первого);\n",
    "- все символы с нечетными индексами, то есть начиная со второго символа строки;\n",
    "- все символы в обратном порядке;\n",
    "- все символы строки через один в обратном порядке, начиная с последнего;\n",
    "- длину данной строки.\n",
    "\n",
    "7. Не используя метод count, для заданной строки выполните:\n",
    "- если символ * в данной строке отсутствует, выведите текст «нет символа»;\n",
    "- если символ * встречается в строке только один раз, выведите его индекс;\n",
    "- если символ * встречается два и более раз, выведите индекс его первого, второго и последнего вхождения, удалите первый и последний символ * из строки.\n",
    "\n",
    "8. Дана строка, состоящая из слов, разделенных пробелами. В этой строке:\n",
    "- удалите все лишние пробелы (в начале, в конце, между словами оставить ровно один пробел);\n",
    "- поменяйте регистр символов (строчные сделать прописными, прописные – строчными);\n",
    "- определите, сколько в ней слов.\n",
    "\n",
    "9. Строка содержит фамилию, имя и отчество, записанные через пробелы. Например «Иванов Иван Иванович». Для этой строки:\n",
    "- выведите информацию в виде:\n",
    "```\n",
    "Фамилия       Иванов\n",
    "Имя           Иван\n",
    "Отчество      Иванович\n",
    "```\n",
    "- получите строки вида «Иванов И.И.» и «И.И. Иванов».\n",
    "\n",
    "10. Напишите программу, которая осуществляет вывод кошки на экран. Примечание: кошка выглядят примерно так:\n",
    "```\n",
    "         /\\_/\\ \n",
    "         /@ @\\ \n",
    "        (~~0~~)\n",
    "\n",
    " ```\n",
    "\n",
    "11. Для двух произвольных строк провести сравнение на совпадение содержимого без учета регистра букв и начальных и конечных пробельных символов. Например, для двух строк ' HeLLO WOrlD' и 'hello WORLD ' такое сравнение должно возвращать True (содержание строк совпадает).\n",
    "\n",
    "12. По номеру года определите, является ли данный год високосным. (год является високосным, если его номер кратен 4, но не кратен 100, а также если он кратен 400).\n",
    "\n",
    "18. Даны точки $A=(1,1),B=(5,5),C=(1,4),D=(7,2)$. Найти точку пересечения отрезков $AB$ и $CD$."
   ]
  },
  {
   "cell_type": "markdown",
   "metadata": {},
   "source": [
    "## Выполненое задание 1 раздел\n",
    "1.Значения переменных А и В ввести с клавиатуры и вывести на экран. После этого значения меняются местами, т.е. A нужно присвоить значение B, а B – значение A, и вновь значения переменных вывести на экран."
   ]
  },
  {
   "cell_type": "code",
   "execution_count": 32,
   "metadata": {},
   "outputs": [
    {
     "name": "stdout",
     "output_type": "stream",
     "text": [
      "4\n",
      "7\n",
      "a =  4  b =  7\n",
      "a =  7  b =  4\n"
     ]
    }
   ],
   "source": [
    "a = int (input())\n",
    "b = int (input())\n",
    "print (\"a = \",a,\" b = \",b)\n",
    "a, b = b, a\n",
    "print (\"a = \",a,\" b = \",b)"
   ]
  },
  {
   "cell_type": "markdown",
   "metadata": {},
   "source": [
    "2. Значение x вводится с клавиатуры. Вычислите $y=(x+1)^2\\cdot \\sqrt{x^3+1}$ Выведите на экран значения  𝑥 и  𝑦 с тремя знаками после запятой."
   ]
  },
  {
   "cell_type": "code",
   "execution_count": 13,
   "metadata": {},
   "outputs": [
    {
     "name": "stdout",
     "output_type": "stream",
     "text": [
      "3\n",
      "x=  3  y=  84.66\n"
     ]
    }
   ],
   "source": [
    "x= int (input())\n",
    "\n",
    "y= (x+1)**2*(x**3+1)**(0.5)\n",
    "\n",
    "print (\"x= \",x,\" y= \",round(y, 2))"
   ]
  },
  {
   "cell_type": "markdown",
   "metadata": {},
   "source": [
    "3. Вычислите сумму цифр пятизначного числа."
   ]
  },
  {
   "cell_type": "code",
   "execution_count": 29,
   "metadata": {},
   "outputs": [
    {
     "name": "stdout",
     "output_type": "stream",
     "text": [
      "12345\n",
      "Сумма=  15\n"
     ]
    }
   ],
   "source": [
    "a = int (input())\n",
    "su = 0\n",
    "while a > 0:\n",
    "    d = a % 10\n",
    "    su = su + d\n",
    "    a = a // 10\n",
    " \n",
    "print(\"Сумма= \", su)"
   ]
  },
  {
   "cell_type": "markdown",
   "metadata": {},
   "source": [
    "4. Для заданного трехзначного числа выведите число, у которого цифры идут в обратном порядке, например, для числа 123 ответ 321."
   ]
  },
  {
   "cell_type": "code",
   "execution_count": 30,
   "metadata": {},
   "outputs": [
    {
     "name": "stdout",
     "output_type": "stream",
     "text": [
      "456\n",
      "Инверсия=  654\n"
     ]
    }
   ],
   "source": [
    "a = int(input())\n",
    " \n",
    "d = a % 10\n",
    "b = d\n",
    "a = a // 10\n",
    " \n",
    "while a > 0:\n",
    "    \n",
    "    d = a % 10\n",
    "    a = a // 10\n",
    "    b = b * 10\n",
    "    b = b + d\n",
    " \n",
    "print(\"Инверсия= \", b)"
   ]
  },
  {
   "cell_type": "code",
   "execution_count": 35,
   "metadata": {},
   "outputs": [],
   "source": [
    "a=654"
   ]
  },
  {
   "cell_type": "code",
   "execution_count": 36,
   "metadata": {},
   "outputs": [
    {
     "data": {
      "text/plain": [
       "'456'"
      ]
     },
     "execution_count": 36,
     "metadata": {},
     "output_type": "execute_result"
    }
   ],
   "source": [
    "ss=str(a)[::-1]\n",
    "ss"
   ]
  },
  {
   "cell_type": "markdown",
   "metadata": {},
   "source": [
    "5. Ввести координаты 2 точек: $(x_1,y_1)$ и $(x_2,y_2)$. Вычислите расстояние между этими точками.  Результат выведите с 5 знаками после запятой."
   ]
  },
  {
   "cell_type": "code",
   "execution_count": 18,
   "metadata": {},
   "outputs": [
    {
     "name": "stdout",
     "output_type": "stream",
     "text": [
      "x1=  1\n",
      "y1=  2\n",
      "x2=  4\n",
      "y2=  5\n",
      "a=  4.24264\n"
     ]
    }
   ],
   "source": [
    "import math\n",
    "x1 = float(input(\"x1=  \"))\n",
    "y1 = float(input(\"y1=  \"))\n",
    "x2 = float(input(\"x2=  \"))\n",
    "y2 = float(input(\"y2=  \"))\n",
    "a = math.sqrt((x2-x1)**2+(y2-y1)**2)\n",
    "print(\"a= \",round(a,5))"
   ]
  },
  {
   "cell_type": "markdown",
   "metadata": {},
   "source": [
    "6. Разработать программу вычисления по известному радиусу площади круга и длины окружности."
   ]
  },
  {
   "cell_type": "code",
   "execution_count": 21,
   "metadata": {},
   "outputs": [
    {
     "name": "stdout",
     "output_type": "stream",
     "text": [
      "r= 5\n",
      "Длина окружности=  31.41592653589793 Площадь окружности=  78.53981633974483\n"
     ]
    }
   ],
   "source": [
    "import math\n",
    "\n",
    "r=float(input(\"r= \"))\n",
    "\n",
    "print (\"Длина окружности= \",2*math.pi*r ,\"Площадь окружности= \",math.pi*r**2)\n"
   ]
  },
  {
   "cell_type": "markdown",
   "metadata": {},
   "source": [
    "7. Разработать программу по вычислению площади кольца по известным значениям его внешнего и внутреннего радиусов."
   ]
  },
  {
   "cell_type": "code",
   "execution_count": 29,
   "metadata": {},
   "outputs": [
    {
     "name": "stdout",
     "output_type": "stream",
     "text": [
      "R= 6\n",
      "r= 2\n",
      "100.53096491487338\n"
     ]
    }
   ],
   "source": [
    "from math import pi\n",
    " \n",
    "def ring(R, r):\n",
    "    if 0 <= r <= R:\n",
    "        a = pi * (R ** 2- r ** 2)\n",
    "    return a\n",
    " \n",
    "print(ring(int( input(\"R= \")), int (input(\"r= \"))))\n"
   ]
  },
  {
   "cell_type": "markdown",
   "metadata": {},
   "source": [
    "8. Разработать программу вычисления радиуса круга и его площади по известной длине окружности."
   ]
  },
  {
   "cell_type": "code",
   "execution_count": 5,
   "metadata": {},
   "outputs": [
    {
     "name": "stdout",
     "output_type": "stream",
     "text": [
      "Введите длину окружности: 12\n",
      "Радиус круга: 1.909859317102744\n",
      "Площадь круга: 11.459155902616464\n"
     ]
    }
   ],
   "source": [
    "from math import pi\n",
    "circumference = float(input(\"Введите длину окружности: \"))\n",
    "radius = circumference / (2 * pi)\n",
    "area = pi * (radius ** 2)\n",
    "\n",
    "print(f\"Радиус круга: {radius}\")\n",
    "print(f\"Площадь круга: {area}\")"
   ]
  },
  {
   "cell_type": "markdown",
   "metadata": {},
   "source": [
    "9. Разработать программу вычисления объема шара: а) по радиусу; б) по длине его экваториальной параллели. Объём шара рассчитывается по формуле $V=\\frac{4}{3}\\pi{r^3}$, где $r$ - радиус."
   ]
  },
  {
   "cell_type": "code",
   "execution_count": 1,
   "metadata": {},
   "outputs": [
    {
     "name": "stdout",
     "output_type": "stream",
     "text": [
      "Введите радиус: 3\n",
      "Введите экваториальную параллель: 6\n",
      "Объем через радиус: 113.09733552923254\n",
      "Объем через экваториальную параллель: 39.98594644342528\n"
     ]
    }
   ],
   "source": [
    "import math\n",
    "\n",
    "def calculate_volume_by_radius(radius):\n",
    "    volume = (4/3) * math.pi * radius**3\n",
    "    return volume\n",
    "\n",
    "def calculate_volume_by_equatorial_parallel_length(length):\n",
    "    radius = length / (2 * math.sqrt(2))\n",
    "    volume = (4/3) * math.pi * radius**3\n",
    "    return volume\n",
    "\n",
    "radius = float(input(\"Введите радиус: \"))\n",
    "volume_by_radius = calculate_volume_by_radius(radius)\n",
    "\n",
    "\n",
    "length = float(input(\"Введите экваториальную параллель: \"))\n",
    "volume_by_length = calculate_volume_by_equatorial_parallel_length(length)\n",
    "\n",
    "print(f\"Объем через радиус: {volume_by_radius}\")\n",
    "print(f\"Объем через экваториальную параллель: {volume_by_length}\")\n"
   ]
  },
  {
   "cell_type": "markdown",
   "metadata": {},
   "source": [
    "10. Имеются два $n$–мерных вектора $x$ и $y$, которые задают координаты $n$ точек на плоскости (случайные целые числа). Найти наиболее близкие друг другу точки."
   ]
  },
  {
   "cell_type": "code",
   "execution_count": null,
   "metadata": {},
   "outputs": [],
   "source": []
  },
  {
   "cell_type": "markdown",
   "metadata": {},
   "source": [
    "11. Треугольник задан координатами своих вершин: $(x_1,y_1),(x_2,y_2),(x_3,y_3)$. Значения координат определите с помощью присваивания. Они могут быть нецелыми. Найти периметр и площадь треугольника."
   ]
  },
  {
   "cell_type": "code",
   "execution_count": 4,
   "metadata": {},
   "outputs": [
    {
     "name": "stdout",
     "output_type": "stream",
     "text": [
      "Введите координаты вершины 1 (x1, y1): 4 5\n",
      "Введите координаты вершины 2 (x2, y2): 6 7\n",
      "Введите координаты вершины 3 (x3, y3): 2 5\n",
      "Периметр треугольника: 9.30056307974577\n",
      "Площадь треугольника: 1.9999999999999984\n"
     ]
    }
   ],
   "source": [
    "import math\n",
    "\n",
    "x1, y1 = map(float, input(\"Введите координаты вершины 1 (x1, y1): \").split())\n",
    "x2, y2 = map(float, input(\"Введите координаты вершины 2 (x2, y2): \").split())\n",
    "x3, y3 = map(float, input(\"Введите координаты вершины 3 (x3, y3): \").split())\n",
    "\n",
    "side1 = math.sqrt((x2 - x1)**2 + (y2 - y1)**2)\n",
    "side2 = math.sqrt((x3 - x2)**2 + (y3 - y2)**2)\n",
    "side3 = math.sqrt((x1 - x3)**2 + (y1 - y3)**2)\n",
    "\n",
    "perimeter = side1 + side2 + side3\n",
    "\n",
    "s = perimeter / 2\n",
    "area = math.sqrt(s * (s - side1) * (s - side2) * (s - side3))\n",
    "\n",
    "print(f\"Периметр треугольника: {perimeter}\")\n",
    "print(f\"Площадь треугольника: {area}\")\n"
   ]
  },
  {
   "cell_type": "markdown",
   "metadata": {},
   "source": [
    "12. Пусть пользователь вводит 5 чисел: а, b, c, d, e. Реализуйте программу расчета выражения вида $res=\\frac{a+bc}{2d-e}+Ost[b^e/c]$, где $Ost$ - остаток от деления. Учесть невозможность деления на 0.\n"
   ]
  },
  {
   "cell_type": "code",
   "execution_count": 6,
   "metadata": {},
   "outputs": [
    {
     "name": "stdout",
     "output_type": "stream",
     "text": [
      "Введите значение a: 5\n",
      "Введите значение b: 4\n",
      "Введите значение c: 0\n",
      "Введите значение d: 6\n",
      "Введите значение e: 3\n",
      "Ошибка: деление на ноль (c не может быть равно 0).\n"
     ]
    }
   ],
   "source": [
    "\n",
    "a = float(input(\"Введите значение a: \"))\n",
    "b = float(input(\"Введите значение b: \"))\n",
    "c = float(input(\"Введите значение c: \"))\n",
    "d = float(input(\"Введите значение d: \"))\n",
    "e = float(input(\"Введите значение e: \"))\n",
    "\n",
    "\n",
    "if c == 0:\n",
    "    print(\"Ошибка: деление на ноль (c не может быть равно 0).\")\n",
    "else:\n",
    "\n",
    "    res = ((a+b*c)/(2*d-e)) + (b**e % c)\n",
    "\n",
    "    print(\"Результат:\", res)\n"
   ]
  },
  {
   "cell_type": "markdown",
   "metadata": {},
   "source": [
    "1.2. Строки, функции и методы работы со строками\n",
    "\n",
    "\n",
    "1. Введите строку, состоящую из двух цифр. Преобразуйте ее в целое и вещественное число. Выведите полученные три значения (строку, целое число, вещественное число) на экран в одной строке через запятую, затем пропустите строку и вновь выведите значения по одному на строке. Перед каждым значением выведите его тип.\n"
   ]
  },
  {
   "cell_type": "code",
   "execution_count": 22,
   "metadata": {},
   "outputs": [
    {
     "name": "stdout",
     "output_type": "stream",
     "text": [
      "Введите строку из двух символов: 45\n",
      "45, 45, 45.0\n",
      "Строка: 45\n",
      "Тип: <class 'str'>\n",
      "Целое число: 45\n",
      "Тип: <class 'int'>\n",
      "Вещественное число: 45.0\n",
      "Тип: <class 'float'>\n"
     ]
    }
   ],
   "source": [
    "\n",
    "input_string = input(\"Введите строку из двух символов: \")\n",
    "\n",
    "if len(input_string) != 2 or not input_string.isdigit():\n",
    "    print(\"Ошибка. Введите два символа в строку.\")\n",
    "else:\n",
    "    \n",
    "    integer_value = int(input_string)\n",
    "    real_value = float(input_string)\n",
    "    \n",
    "    print(f\"{input_string}, {integer_value}, {real_value}\")\n",
    "\n",
    "    print(f\"Строка: {input_string}\")\n",
    "    print(f\"Тип: {type(input_string)}\")\n",
    "\n",
    "    print(f\"Целое число: {integer_value}\")\n",
    "    print(f\"Тип: {type(integer_value)}\")\n",
    "\n",
    "    print(f\"Вещественное число: {real_value}\")\n",
    "    print(f\"Тип: {type(real_value)}\")\n"
   ]
  },
  {
   "cell_type": "markdown",
   "metadata": {},
   "source": [
    "2. Для строки 'Финансовый университет' двумя способами получить подстроку с 1-го по 4-й символы включительно."
   ]
  },
  {
   "cell_type": "code",
   "execution_count": 18,
   "metadata": {},
   "outputs": [
    {
     "name": "stdout",
     "output_type": "stream",
     "text": [
      "Первый способ: Фина\n",
      "Второй способ: Финан\n"
     ]
    }
   ],
   "source": [
    "\n",
    "input_string = 'Финансовый университет'\n",
    "\n",
    "substring_slicing = input_string[0:4]  \n",
    "print(\"Первый способ:\", substring_slicing)\n",
    "\n",
    "substring_method = input_string[0:4 + 1]  \n",
    "print(\"Второй способ:\", substring_method)\n"
   ]
  },
  {
   "cell_type": "markdown",
   "metadata": {},
   "source": [
    "3. Составить строку из всех четных символов строки 'Финансовый университет'."
   ]
  },
  {
   "cell_type": "code",
   "execution_count": 19,
   "metadata": {},
   "outputs": [
    {
     "name": "stdout",
     "output_type": "stream",
     "text": [
      "Строка из четных символов: Фнноы нврие\n"
     ]
    }
   ],
   "source": [
    "\n",
    "input_string = 'Финансовый университет'\n",
    "\n",
    "even_characters = input_string[::2]\n",
    "\n",
    "print(\"Строка из четных символов:\", even_characters)\n"
   ]
  },
  {
   "cell_type": "markdown",
   "metadata": {},
   "source": [
    "4. Получить подстроку неизвестной заранее строки, содержащую половину символов строки и расположенную посередине строки."
   ]
  },
  {
   "cell_type": "code",
   "execution_count": 20,
   "metadata": {},
   "outputs": [
    {
     "name": "stdout",
     "output_type": "stream",
     "text": [
      "Введите строку: Доброе утро,товарищи\n",
      "Результат: е утро,тов\n"
     ]
    }
   ],
   "source": [
    "\n",
    "input_string = input(\"Введите строку: \")\n",
    "\n",
    "length = len(input_string)\n",
    "\n",
    "start_index = length // 4  \n",
    "end_index = 3 * length // 4  \n",
    "\n",
    "middle_substring = input_string[start_index:end_index]\n",
    "\n",
    "print(\"Результат:\", middle_substring)\n"
   ]
  },
  {
   "cell_type": "markdown",
   "metadata": {},
   "source": [
    "5. Коротко записать создание строки 'oneoneoneoneoneonetwotwotwo'"
   ]
  },
  {
   "cell_type": "code",
   "execution_count": 17,
   "metadata": {},
   "outputs": [
    {
     "name": "stdout",
     "output_type": "stream",
     "text": [
      "oneoneoneoneonetwotwotwo\n"
     ]
    }
   ],
   "source": [
    "\n",
    "substring_one = 'one' * 5  \n",
    "substring_two = 'two' * 3  \n",
    "result_string = substring_one + substring_two\n",
    "print(result_string)\n"
   ]
  },
  {
   "cell_type": "markdown",
   "metadata": {},
   "source": [
    "6. Для введенной строки выведите (на отдельной строке):\n",
    "- второй символ этой строки;\n",
    "- предпоследний символ этой строки;\n",
    "- всю строку, кроме последних двух символов;\n",
    "- все символы с четными индексами (считая, что индексация начинается с 0, поэтому символы выводятся, начиная с первого);\n",
    "- все символы с нечетными индексами, то есть начиная со второго символа строки;\n",
    "- все символы в обратном порядке;\n",
    "- все символы строки через один в обратном порядке, начиная с последнего;\n",
    "- длину данной строки."
   ]
  },
  {
   "cell_type": "code",
   "execution_count": 24,
   "metadata": {},
   "outputs": [
    {
     "name": "stdout",
     "output_type": "stream",
     "text": [
      "Введите строку: энциклопедия\n",
      "Второй символ: н\n",
      "Предпоследний символ: и\n",
      "Вся строка, кроме последних двух символов: энциклопед\n",
      "Все символы с четными индексами: эцкоеи\n",
      "Все символы с нечтными индексами (со второго символа строки): нилпдя\n",
      "ВСе символы в обратном порядке: яидеполкицнэ\n",
      "Все символы строки через один в обратном порядке: яидеполкицнэ\n",
      "Длина строки: 12\n"
     ]
    }
   ],
   "source": [
    "\n",
    "input_string = input(\"Введите строку: \")\n",
    "\n",
    "second_char = input_string[1]\n",
    "\n",
    "penultimate_char = input_string[-2]\n",
    "\n",
    "string_except_last_two = input_string[:-2]\n",
    "\n",
    "even_characters = input_string[::2]\n",
    "\n",
    "odd_characters = input_string[1::2]\n",
    "\n",
    "reverse_characters = input_string[::-1]\n",
    "\n",
    "reverse_separated = input_string[-1::-1]\n",
    "\n",
    "string_length = len(input_string)\n",
    "\n",
    "print(\"Второй символ:\", second_char)\n",
    "print(\"Предпоследний символ:\", penultimate_char)\n",
    "print(\"Вся строка, кроме последних двух символов:\", string_except_last_two)\n",
    "print(\"Все символы с четными индексами:\", even_characters)\n",
    "print(\"Все символы с нечтными индексами (со второго символа строки):\", odd_characters)\n",
    "print(\"ВСе символы в обратном порядке:\", reverse_characters)\n",
    "print(\"Все символы строки через один в обратном порядке:\", reverse_separated)\n",
    "print(\"Длина строки:\", string_length)\n"
   ]
  },
  {
   "cell_type": "markdown",
   "metadata": {},
   "source": [
    "7. Не используя метод count, для заданной строки выполните:\n",
    "- если символ * в данной строке отсутствует, выведите текст «нет символа»;\n",
    "- если символ * встречается в строке только один раз, выведите его индекс;\n",
    "- если символ * встречается два и более раз, выведите индекс его первого, второго и последнего вхождения, удалите первый и последний символ * из строки."
   ]
  },
  {
   "cell_type": "code",
   "execution_count": 16,
   "metadata": {},
   "outputs": [
    {
     "name": "stdout",
     "output_type": "stream",
     "text": [
      "Введите строку: добрый*день*товарищи\n",
      "Индекс первого символа *: 6\n",
      "Индекс второго символа *: 11\n",
      "Индекс последнего символа *: 11\n",
      "Измененная строка: добрыйденьтоварищи\n"
     ]
    }
   ],
   "source": [
    "\n",
    "input_string = input(\"Введите строку: \")\n",
    "\n",
    "first_star_index = -1\n",
    "second_star_index = -1\n",
    "last_star_index = -1\n",
    "\n",
    "if '*' not in input_string:\n",
    "    print(\"нет символа\")\n",
    "else:\n",
    "    \n",
    "    star_count = 0\n",
    "    for i, char in enumerate(input_string):\n",
    "        if char == '*':\n",
    "            star_count += 1\n",
    "            if star_count == 1:\n",
    "                first_star_index = i\n",
    "            elif star_count == 2:\n",
    "                second_star_index = i\n",
    "            last_star_index = i\n",
    "\n",
    "    \n",
    "    if star_count == 1:\n",
    "        print(\"Индекс символа *:\", first_star_index)\n",
    "    else:\n",
    "        \n",
    "        print(\"Индекс первого символа *:\", first_star_index)\n",
    "        print(\"Индекс второго символа *:\", second_star_index)\n",
    "        print(\"Индекс последнего символа *:\", last_star_index)\n",
    "\n",
    "        modified_string = input_string[:first_star_index] + input_string[first_star_index + 1:last_star_index] + input_string[last_star_index + 1:]\n",
    "        print(\"Измененная строка:\", modified_string)\n"
   ]
  },
  {
   "cell_type": "markdown",
   "metadata": {},
   "source": [
    "8. Дана строка, состоящая из слов, разделенных пробелами. В этой строке:\n",
    "- удалите все лишние пробелы (в начале, в конце, между словами оставить ровно один пробел);\n",
    "- поменяйте регистр символов (строчные сделать прописными, прописные – строчными);\n",
    "- определите, сколько в ней слов.\n"
   ]
  },
  {
   "cell_type": "code",
   "execution_count": 15,
   "metadata": {},
   "outputs": [
    {
     "name": "stdout",
     "output_type": "stream",
     "text": [
      "Введите строку:  доброе утро\n",
      "Изменение строки: ДОБРОЕ УТРО\n",
      "Число слов: 2\n"
     ]
    }
   ],
   "source": [
    "\n",
    "input_string = input(\"Введите строку: \")\n",
    "\n",
    "words = input_string.strip().split()\n",
    "\n",
    "transformed_string = \"\"\n",
    "word_count = len(words)\n",
    "\n",
    "for i, word in enumerate(words):\n",
    "    if i > 0:\n",
    "        transformed_string += \" \"  \n",
    "    transformed_string += word.swapcase()  \n",
    "\n",
    "\n",
    "print(\"Изменение строки:\", transformed_string)\n",
    "print(\"Число слов:\", word_count)\n"
   ]
  },
  {
   "cell_type": "markdown",
   "metadata": {},
   "source": [
    "9. Строка содержит фамилию, имя и отчество, записанные через пробелы. Например «Иванов Иван Иванович». Для этой строки:\n",
    "- выведите информацию в виде:\n",
    "```\n",
    "Фамилия       Иванов\n",
    "Имя           Иван\n",
    "Отчество      Иванович\n",
    "```\n",
    "- получите строки вида «Иванов И.И.» и «И.И. Иванов»."
   ]
  },
  {
   "cell_type": "code",
   "execution_count": 27,
   "metadata": {},
   "outputs": [
    {
     "name": "stdout",
     "output_type": "stream",
     "text": [
      "Введите полное ФИО: Гринева Анастасия Геннадьевна\n",
      "Фамилия Гринева\n",
      "Имя Анастасия\n",
      "Отчество Геннадьевна\n",
      "Фамилия и имя: Гринева Анастасия\n",
      "Инициалы и фамилия: А.Г. Гринева\n"
     ]
    }
   ],
   "source": [
    "\n",
    "full_name = input(\"Введите полное ФИО: \")\n",
    "\n",
    "\n",
    "name_parts = full_name.split()\n",
    "\n",
    "if len(name_parts) >= 3:\n",
    "   \n",
    "    surname = name_parts[0]\n",
    "    firstname = name_parts[1]\n",
    "    patronymic = name_parts[2]\n",
    "\n",
    "  \n",
    "    full_name_format1 = f\"{surname} {firstname}\"\n",
    "\n",
    "   \n",
    "    initials = f\"{firstname[0]}.{patronymic[0]}.\"\n",
    "    full_name_format2 = f\"{initials} {surname}\"\n",
    "    print(\"Фамилия\",name_parts[0])\n",
    "    print(\"Имя\",name_parts[1])\n",
    "    print(\"Отчество\",name_parts[2])\n",
    "    print(\"Фамилия и имя:\", full_name_format1)\n",
    "    print(\"Инициалы и фамилия:\", full_name_format2)\n",
    "else:\n",
    "    print(\"Неправельно введены данные. Напишите заново полное ФИО.\")\n"
   ]
  },
  {
   "cell_type": "markdown",
   "metadata": {},
   "source": [
    "10. Напишите программу, которая осуществляет вывод кошки на экран. Примечание: кошка выглядят примерно так:\n",
    "```\n",
    "         /\\_/\\ \n",
    "         /@ @\\ \n",
    "        (~~0~~)\n",
    "\n",
    " ```"
   ]
  },
  {
   "cell_type": "code",
   "execution_count": 11,
   "metadata": {},
   "outputs": [
    {
     "name": "stdout",
     "output_type": "stream",
     "text": [
      "\n",
      "    /\\_/\\\n",
      "    /@ @\\\n",
      "   (~~0~~)\n",
      "\n"
     ]
    }
   ],
   "source": [
    "\n",
    "cat_art = \"\"\"\n",
    "    /\\\\_/\\\\\n",
    "    /@ @\\\\\n",
    "   (~~0~~)\n",
    "\"\"\"\n",
    "print(cat_art)\n",
    "\n"
   ]
  },
  {
   "cell_type": "markdown",
   "metadata": {},
   "source": [
    "11. Для двух произвольных строк провести сравнение на совпадение содержимого без учета регистра букв и начальных и конечных пробельных символов. Например, для двух строк ' HeLLO WOrlD' и 'hello WORLD ' такое сравнение должно возвращать True (содержание строк совпадает)."
   ]
  },
  {
   "cell_type": "code",
   "execution_count": 10,
   "metadata": {},
   "outputs": [
    {
     "name": "stdout",
     "output_type": "stream",
     "text": [
      "Введите первую строку: Hello World\n",
      "введите вторую строку: HELLo WoRLd\n",
      "Совпадение строк.\n"
     ]
    }
   ],
   "source": [
    "\n",
    "string1 = input(\"Введите первую строку: \")\n",
    "string2 = input(\"введите вторую строку: \")\n",
    "\n",
    "\n",
    "string1 = string1.strip().lower()\n",
    "string2 = string2.strip().lower()\n",
    "\n",
    "\n",
    "if string1 == string2:\n",
    "    print(\"Совпадение строк.\")\n",
    "else:\n",
    "    print(\"Несовпадение строк.\")\n"
   ]
  },
  {
   "cell_type": "markdown",
   "metadata": {},
   "source": [
    "12. По номеру года определите, является ли данный год високосным. (год является високосным, если его номер кратен 4, но не кратен 100, а также если он кратен 400)."
   ]
  },
  {
   "cell_type": "code",
   "execution_count": 9,
   "metadata": {},
   "outputs": [
    {
     "name": "stdout",
     "output_type": "stream",
     "text": [
      "Введите год: 1978\n",
      "1978 не високосный год.\n"
     ]
    }
   ],
   "source": [
    "\n",
    "year = int(input(\"Введите год: \"))\n",
    "\n",
    "\n",
    "if (year % 4 == 0 and year % 100 != 0) or (year % 400 == 0):\n",
    "    print(f\"{year} високосный год.\")\n",
    "else:\n",
    "    print(f\"{year} не високосный год.\")\n"
   ]
  },
  {
   "cell_type": "markdown",
   "metadata": {},
   "source": [
    "13. Даны точки $A=(1,1),B=(5,5),C=(1,4),D=(7,2)$. Найти точку пересечения отрезков $AB$ и $CD$."
   ]
  },
  {
   "cell_type": "code",
   "execution_count": 8,
   "metadata": {},
   "outputs": [
    {
     "name": "stdout",
     "output_type": "stream",
     "text": [
      "Точка пересечения AB и CD (3.25, 3.25)\n"
     ]
    }
   ],
   "source": [
    "\n",
    "Ax, Ay = 1, 1\n",
    "Bx, By = 5, 5\n",
    "Cx, Cy = 1, 4\n",
    "Dx, Dy = 7, 2\n",
    "\n",
    "def do_segments_intersect(Ax, Ay, Bx, By, Cx, Cy, Dx, Dy):\n",
    "  \n",
    "    ABx, ABy = Bx - Ax, By - Ay\n",
    "    CDx, CDy = Dx - Cx, Dy - Cy\n",
    "\n",
    "\n",
    "    determinant = ABx * CDy - ABy * CDx\n",
    "\n",
    "\n",
    "    if determinant == 0:\n",
    "        return False\n",
    "\n",
    "\n",
    "    t = ((Cx - Ax) * CDy - (Cy - Ay) * CDx) / determinant\n",
    "    u = ((Cx - Ax) * ABy - (Cy - Ay) * ABx) / determinant\n",
    "\n",
    "    if 0 <= t <= 1 and 0 <= u <= 1:\n",
    "        intersection_x = Ax + t * ABx\n",
    "        intersection_y = Ay + t * ABy\n",
    "        return intersection_x, intersection_y\n",
    "    else:\n",
    "        return False\n",
    "\n",
    "intersection = do_segments_intersect(Ax, Ay, Bx, By, Cx, Cy, Dx, Dy)\n",
    "\n",
    "if intersection:\n",
    "    print(f\"Точка пересечения AB и CD ({intersection[0]}, {intersection[1]})\")\n",
    "else:\n",
    "    print(\"Отрезки AB и CD не пересекаются.\")\n"
   ]
  },
  {
   "cell_type": "code",
   "execution_count": null,
   "metadata": {},
   "outputs": [],
   "source": []
  },
  {
   "cell_type": "code",
   "execution_count": null,
   "metadata": {},
   "outputs": [],
   "source": []
  },
  {
   "cell_type": "code",
   "execution_count": null,
   "metadata": {},
   "outputs": [],
   "source": []
  },
  {
   "cell_type": "code",
   "execution_count": null,
   "metadata": {},
   "outputs": [],
   "source": []
  },
  {
   "cell_type": "code",
   "execution_count": null,
   "metadata": {},
   "outputs": [],
   "source": []
  },
  {
   "cell_type": "code",
   "execution_count": null,
   "metadata": {},
   "outputs": [],
   "source": []
  }
 ],
 "metadata": {
  "kernelspec": {
   "display_name": "Python 3 (ipykernel)",
   "language": "python",
   "name": "python3"
  },
  "language_info": {
   "codemirror_mode": {
    "name": "ipython",
    "version": 3
   },
   "file_extension": ".py",
   "mimetype": "text/x-python",
   "name": "python",
   "nbconvert_exporter": "python",
   "pygments_lexer": "ipython3",
   "version": "3.11.4"
  },
  "toc": {
   "base_numbering": 1,
   "nav_menu": {},
   "number_sections": true,
   "sideBar": true,
   "skip_h1_title": false,
   "title_cell": "Table of Contents",
   "title_sidebar": "Contents",
   "toc_cell": true,
   "toc_position": {},
   "toc_section_display": true,
   "toc_window_display": false
  },
  "varInspector": {
   "cols": {
    "lenName": 16,
    "lenType": 16,
    "lenVar": 40
   },
   "kernels_config": {
    "python": {
     "delete_cmd_postfix": "",
     "delete_cmd_prefix": "del ",
     "library": "var_list.py",
     "varRefreshCmd": "print(var_dic_list())"
    },
    "r": {
     "delete_cmd_postfix": ") ",
     "delete_cmd_prefix": "rm(",
     "library": "var_list.r",
     "varRefreshCmd": "cat(var_dic_list()) "
    }
   },
   "types_to_exclude": [
    "module",
    "function",
    "builtin_function_or_method",
    "instance",
    "_Feature"
   ],
   "window_display": false
  }
 },
 "nbformat": 4,
 "nbformat_minor": 4
}
