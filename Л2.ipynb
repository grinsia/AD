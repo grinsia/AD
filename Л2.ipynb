{
 "cells": [
  {
   "cell_type": "markdown",
   "metadata": {},
   "source": [
    "1. Определить время года по номеру месяца."
   ]
  },
  {
   "cell_type": "code",
   "execution_count": 2,
   "metadata": {},
   "outputs": [
    {
     "name": "stdout",
     "output_type": "stream",
     "text": [
      "Введите номер месяца: 8\n",
      "Лето\n"
     ]
    }
   ],
   "source": [
    "def get_season(month):\n",
    "    if 1 <= month <= 2 or month == 12:\n",
    "        return 'Зима'\n",
    "    elif 3 <= month <= 5:\n",
    "        return 'Весна'\n",
    "    elif 6 <= month <= 8:\n",
    "        return 'Лето'\n",
    "    elif 9 <= month <= 11:\n",
    "        return 'Осень'\n",
    "    else:\n",
    "        return 'Введите номер месяца еще раз!'\n",
    "\n",
    "month = int(input('Введите номер месяца: '))\n",
    "print(get_season(month))\n"
   ]
  },
  {
   "cell_type": "markdown",
   "metadata": {},
   "source": [
    "2. Определить минимальное значение среди чисел $a, b, c, d$ (не использовать стандартные функции max и min)."
   ]
  },
  {
   "cell_type": "code",
   "execution_count": 4,
   "metadata": {},
   "outputs": [
    {
     "name": "stdout",
     "output_type": "stream",
     "text": [
      "Введите значение a: 5\n",
      "Введите значение b: 9\n",
      "Введите значение c: 7\n",
      "Введите значение d: 6\n",
      "Минимальное число: 5\n"
     ]
    }
   ],
   "source": [
    "\n",
    "def find_minimum(a, b, c, d):\n",
    "    minimum = a\n",
    "\n",
    "    if b < minimum:\n",
    "        minimum = b\n",
    "\n",
    "    if c < minimum:\n",
    "        minimum = c\n",
    "\n",
    "    if d < minimum:\n",
    "        minimum = d\n",
    "\n",
    "    return minimum\n",
    "\n",
    "a = int(input(\"Введите значение a: \"))\n",
    "b = int(input(\"Введите значение b: \"))\n",
    "c = int(input(\"Введите значение c: \"))\n",
    "d = int(input(\"Введите значение d: \"))\n",
    "\n",
    "min_value = find_minimum(a, b, c, d)\n",
    "print(\"Минимальное число:\", min_value)\n"
   ]
  },
  {
   "cell_type": "markdown",
   "metadata": {},
   "source": [
    "3. Напишите программу, которая переводит оценку из 100-балльной системы в пятибалльную по правилам, принятым в университете."
   ]
  },
  {
   "cell_type": "code",
   "execution_count": 13,
   "metadata": {},
   "outputs": [
    {
     "name": "stdout",
     "output_type": "stream",
     "text": [
      "Введите 100 бальную оценку: 56\n",
      "В 5 бальной шкале = 1\n"
     ]
    }
   ],
   "source": [
    "def convert_to_five_point(score):\n",
    "    if score >= 90:\n",
    "        return 5\n",
    "    elif score >= 80:\n",
    "        return 4\n",
    "    elif score >= 70:\n",
    "        return 3\n",
    "    elif score >= 60:\n",
    "        return 2\n",
    "    else:\n",
    "        return 1\n",
    "\n",
    "try:\n",
    "    score_100 = float(input(\"Введите 100 бальную оценку: \"))\n",
    "\n",
    "    if 0 <= score_100 <= 100:\n",
    "        score_5 = convert_to_five_point(score_100)\n",
    "        print(f\"В 5 бальной шкале = {score_5}\")\n",
    "    else:\n",
    "        print(\"Ошибка! Введите оценку от 0 до 100.\")\n",
    "except ValueError:\n",
    "    print(\"Ошибка! Введите числовое значение.\")\n"
   ]
  },
  {
   "cell_type": "markdown",
   "metadata": {},
   "source": [
    "4. Вычислить значение $F: F=1$, если цифра $7$ входит в запись заданного трехзначного числа, и $0$ – в противном случае."
   ]
  },
  {
   "cell_type": "code",
   "execution_count": 14,
   "metadata": {},
   "outputs": [
    {
     "name": "stdout",
     "output_type": "stream",
     "text": [
      "Введите трехзначное число: 566\n",
      "F = 0\n"
     ]
    }
   ],
   "source": [
    "def calculate_F(number):\n",
    "    if '7' in str(number):\n",
    "        return 1\n",
    "    return 0\n",
    "\n",
    "try:\n",
    "    number = int(input(\"Введите трехзначное число: \"))\n",
    "    \n",
    "    if 100 <= number <= 999:\n",
    "        F = calculate_F(number)\n",
    "        print(f\"F = {F}\")\n",
    "    else:\n",
    "        print(\"Ошибка!Введите трехзначное число.\")\n",
    "except ValueError:\n",
    "    print(\"Ошибка! Введите трехзначное число.\")\n"
   ]
  },
  {
   "cell_type": "markdown",
   "metadata": {},
   "source": [
    "5. Даны два отрезка $[a;b]$ и $[c;d]$. Найдите их пересечение. Если отрезки не пересекаются, то выдайте сообщение."
   ]
  },
  {
   "cell_type": "code",
   "execution_count": 10,
   "metadata": {},
   "outputs": [
    {
     "name": "stdout",
     "output_type": "stream",
     "text": [
      "5\n",
      "7\n",
      "8\n",
      "9\n",
      "Не пересекают\n"
     ]
    }
   ],
   "source": [
    "def find_intersection(a, b, c, d):\n",
    "\n",
    "    if max(a, c) <= min(b, d):\n",
    "        return max(a, c), min(b, d)\n",
    "    else:\n",
    "        return None\n",
    "\n",
    "a, b, c, d = int(input()), int(input()), int(input()), int(input())\n",
    "\n",
    "\n",
    "intersection = find_intersection(a, b, c, d)\n",
    "\n",
    "if intersection is not None:\n",
    "    print(f\"Пересекают отрезки [{a}, {b}] и [{c}, {d}] в  [{intersection[0]}, {intersection[1]}]\")\n",
    "else:\n",
    "    print(\"Не пересекают\")\n",
    "\n"
   ]
  },
  {
   "cell_type": "markdown",
   "metadata": {},
   "source": [
    "6. По номеру года определите, является ли данный год високосным. (год является високосным, если его номер кратен 4, но не кратен 100, а также если он кратен 400)."
   ]
  },
  {
   "cell_type": "code",
   "execution_count": null,
   "metadata": {},
   "outputs": [],
   "source": [
    "def is_leap_year(year):\n",
    "    if (year % 4 == 0 and year % 100 != 0) or (year % 400 == 0):\n",
    "        return True\n",
    "    return False\n",
    "\n",
    "try:\n",
    "    year = int(input(\"Введите год: \"))\n",
    "    \n",
    "    if year >= 0:\n",
    "        if is_leap_year(year):\n",
    "            print(f\"{year} - високосный год.\")\n",
    "        else:\n",
    "            print(f\"{year} - не високосный год.\")\n",
    "    else:\n",
    "        print(\"Ошибка!\")\n",
    "except ValueError:\n",
    "    print(\"Ошибка!\")\n",
    "\n"
   ]
  },
  {
   "cell_type": "markdown",
   "metadata": {},
   "source": [
    "7. Для отрезков длины a, b, c определить, можно ли из них составить треугольник и является ли этот треугольник прямоугольным."
   ]
  },
  {
   "cell_type": "code",
   "execution_count": 11,
   "metadata": {},
   "outputs": [
    {
     "name": "stdout",
     "output_type": "stream",
     "text": [
      "Длина a: 1\n",
      "Длина b: 2\n",
      "Длина c: 4\n",
      "Не правильный треугольник\n"
     ]
    }
   ],
   "source": [
    "def is_triangle(a, b, c):\n",
    "    return a + b > c and a + c > b and b + c > a\n",
    "\n",
    "def is_rectangular_triangle(a, b, c):\n",
    "    sides = [a, b, c]\n",
    "    sides.sort()\n",
    "    return sides[0] ** 2 + sides[1] ** 2 == sides[2] ** 2\n",
    "\n",
    "try:\n",
    "    a = float(input(\"Длина a: \"))\n",
    "    b = float(input(\"Длина b: \"))\n",
    "    c = float(input(\"Длина c: \"))\n",
    "\n",
    "    if is_triangle(a, b, c):\n",
    "        print(\"Это треугольник.\")\n",
    "        if is_rectangular_triangle(a, b, c):\n",
    "            print(\"Этот треугольник является прямоугольным.\")\n",
    "        else:\n",
    "            print(\"Этот треугольник не является прямоугольным.\")\n",
    "    else:\n",
    "        print(\"Это не треугольник.\")\n",
    "except ValueError:\n",
    "    print(\"Ошибка!\")\n"
   ]
  },
  {
   "cell_type": "markdown",
   "metadata": {},
   "source": [
    "8. Напишите программу для решения уравнения\n",
    "$$ ax^2+bx+c=0 $$\n",
    "Коэффициенты $a, b, c$ могут быть любыми числами. "
   ]
  },
  {
   "cell_type": "code",
   "execution_count": null,
   "metadata": {},
   "outputs": [],
   "source": [
    "import math\n",
    "\n",
    "def solve_quadratic_equation(a, b, c):\n",
    "    discriminant = b**2 - 4*a*c\n",
    "\n",
    "    if discriminant > 0:\n",
    "        root1 = (-b + math.sqrt(discriminant)) / (2*a)\n",
    "        root2 = (-b - math.sqrt(discriminant)) / (2*a)\n",
    "        return root1, root2\n",
    "    elif discriminant == 0:\n",
    "        root = -b / (2*a)\n",
    "        return root\n",
    "    else:\n",
    "        real_part = -b / (2*a)\n",
    "        imaginary_part = math.sqrt(abs(discriminant)) / (2*a)\n",
    "        return complex(real_part, imaginary_part)\n",
    "\n",
    "try:\n",
    "    a = float(input(\"Введите коэффициент a: \"))\n",
    "    b = float(input(\"Введите коэффициент b: \"))\n",
    "    c = float(input(\"Введите коэффициент c: \"))\n",
    "\n",
    "    solutions = solve_quadratic_equation(a, b, c)\n",
    "\n",
    "    if isinstance(solutions, tuple):\n",
    "        root1, root2 = solutions\n",
    "        print(f\"Решениями являются: {root1} и {root2}\")\n",
    "    elif isinstance(solutions, float):\n",
    "        print(f\"Решение таково: {solutions}\")\n",
    "    else:\n",
    "        real_part = solutions.real\n",
    "        imaginary_part = solutions.imag\n",
    "        print(f\"Решения являются комплексными: {real_part} + {imaginary_part}i и {real_part} - {imaginary_part}i\")\n",
    "except ValueError:\n",
    "    print(\"Неверный ввод! Пожалуйста, введите корректные коэффициенты в виде чисел.\")\n",
    "\n"
   ]
  },
  {
   "cell_type": "markdown",
   "metadata": {},
   "source": [
    "9. Вводится целое число. Выведите его на экран и допишите к нему слова «рубль», «рубля» или «рублей» в зависимости от значения. Алгоритм: \n",
    "- исключение: если число оканчивается на 11, 12, 13 или 14, добавляем слово «рублей»; \n",
    "- если число оканчивается на 1, добавляем слово «рубль»; \n",
    "- если число оканчивается на 2, 3 или 4, добавляем слово «рубля»; \n",
    "- если число оканчивается на цифры 5, 6, 7, 8, 9 или 0, добавляем слово «рублей»."
   ]
  },
  {
   "cell_type": "code",
   "execution_count": null,
   "metadata": {},
   "outputs": [],
   "source": [
    "def money():\n",
    "    n = int(input())\n",
    "    if n == 11 or n == 12 or n == 13 or n == 14:\n",
    "        word = \"рублей\"\n",
    "    elif n % 10 == 1:\n",
    "        word = \"рубль\"\n",
    "    elif 2 <= n % 10 <= 4:\n",
    "        word = \"рубля\"\n",
    "    else:\n",
    "        word = \"рублей\"\n",
    "\n",
    "    print(n, word)\n",
    "\n",
    "money()\n"
   ]
  },
  {
   "cell_type": "markdown",
   "metadata": {},
   "source": [
    "10. Пользователь поочередно вводит координаты точки в декартовой системе координат. Определить, какой четверти принадлежит данная точка или на какой оси она находится. Расположение точки вывести на экран. Найти произведение номера четверти на расстояние от этой точки до начала координат и вывести его на экран. Если точка лежит на оси, считать, что номер четверти равен 0."
   ]
  },
  {
   "cell_type": "code",
   "execution_count": 23,
   "metadata": {},
   "outputs": [
    {
     "name": "stdout",
     "output_type": "stream",
     "text": [
      "Введите координату x (или 'q' для выхода):  12\n",
      "Введите координату y (или 'q' для выхода):  10\n",
      "Точка (12.0, 10.0) находится в четверти 1.\n",
      "Произведение номера квартала и расстояния равно: 15.62\n",
      "\n",
      "Введите координату x (или 'q' для выхода):  q\n",
      "Error\n"
     ]
    }
   ],
   "source": [
    "import math\n",
    "\n",
    "def determine_quarter(x, y):\n",
    "    if x == 0 or y == 0:\n",
    "        return 0  \n",
    "    elif x > 0:\n",
    "        if y > 0:\n",
    "            return 1\n",
    "        else:\n",
    "            return 4\n",
    "    else:\n",
    "        if y > 0:\n",
    "            return 2\n",
    "        else:\n",
    "            return 3\n",
    "\n",
    "def calculate_distance(x, y):\n",
    "    return math.sqrt(x**2 + y**2)\n",
    "\n",
    "while True:\n",
    "    x_input = input(\"Введите координату x (или 'q' для выхода):  \")\n",
    "    if x_input == 'q':\n",
    "        break\n",
    "\n",
    "    y_input = input(\"Введите координату y (или 'q' для выхода):  \")\n",
    "    if y_input == 'q':\n",
    "        break\n",
    "\n",
    "    try:\n",
    "        x = float(x_input)\n",
    "        y = float(y_input)\n",
    "\n",
    "        quarter = determine_quarter(x, y)\n",
    "        distance = calculate_distance(x, y)\n",
    "        product = quarter * distance\n",
    "\n",
    "        print(f\"Точка ({x}, {y}) находится в четверти {quarter}.\")\n",
    "        print(f\"Произведение номера квартала и расстояния равно: {product:.2f}\\n\")\n",
    "\n",
    "    except ValueError:\n",
    "        print(\"Неверный ввод. Пожалуйста, введите числовые координаты или 'q', чтобы выйти\")\n",
    "\n",
    "print(\"Выход из программы\")\n"
   ]
  },
  {
   "cell_type": "markdown",
   "metadata": {},
   "source": [
    "11. Выведите значение заданного целого числа от 0 до 999 прописью. Например, «сто девяносто один» для числа 191, «одиннадцать» для числа 11. "
   ]
  },
  {
   "cell_type": "code",
   "execution_count": null,
   "metadata": {},
   "outputs": [],
   "source": [
    "def number_to_words(n):\n",
    "    units = [\"\", \"один\", \"два\", \"три\", \"четыре\", \"пять\", \"шесть\", \"семь\", \"восемь\", \"девять\"]\n",
    "    teens = [\"\", \"одиннадцать\", \"двенадцать\", \"тринадцать\", \"четырнадцать\", \"пятнадцать\", \"шестнадцать\", \"семнадцать\", \"восемнадцать\", \"девятнадцать\"]\n",
    "    tens = [\"\", \"десять\", \"двадцать\", \"тридцать\", \"сорок\", \"пятьдесят\", \"шестьдесят\", \"семьдесят\", \"восемьдесят\", \"девяносто\"]\n",
    "    hundreds = [\"\", \"сто\", \"двести\", \"триста\", \"четыреста\", \"пятьсот\", \"шестьсот\", \"семьсот\", \"восемьсот\", \"девятьсот\"]\n",
    "\n",
    "    if 0 <= n <= 9:\n",
    "        return units[n]\n",
    "    elif 11 <= n <= 19:\n",
    "        return teens[n - 10]\n",
    "    elif 21 <= n <= 99:\n",
    "        return tens[n // 10] + (\" \" + units[n % 10] if n % 10 != 0 else \"\")\n",
    "    elif 101 <= n <= 999:\n",
    "        return hundreds[n // 100] + (\" \" + number_to_words(n % 100) if n % 100 != 0 else \"\")\n",
    "    else:\n",
    "        return \"Число вне диапазона (0-999)\"\n",
    "\n",
    "while True:\n",
    "    try:\n",
    "        num = int(input(\"Введите целое число от 0 до 999 (или 'q' для выхода): \"))\n",
    "        if 0 <= num <= 999:\n",
    "            words = number_to_words(num)\n",
    "            print(f\"{num}: {words}\")\n",
    "        elif num == 'q':\n",
    "            break\n",
    "        else:\n",
    "            print(\"Число вне диапазона (0-999)\")\n",
    "    except ValueError:\n",
    "        print(\"Некорректный ввод. Пожалуйста, введите целое число от 0 до 999.\")\n",
    "\n",
    "print(\"Программа завершена.\")\n"
   ]
  },
  {
   "cell_type": "markdown",
   "metadata": {},
   "source": [
    "12. Вычислите значение выражения, которое состоит из целых чисел и знаков «+» и «-». Выражение вводится как символьная строка.\n"
   ]
  },
  {
   "cell_type": "code",
   "execution_count": 1,
   "metadata": {},
   "outputs": [
    {
     "name": "stdout",
     "output_type": "stream",
     "text": [
      "Введите выражение (например, '2 + 3 - 1'): 2 + 2 - 10\n",
      "Результат: 14\n"
     ]
    }
   ],
   "source": [
    "def evaluate_expression(expression):\n",
    "    expression = expression.replace(\" \", \"\")\n",
    "\n",
    "    def calculate(tokens):\n",
    "        stack = []\n",
    "        current_num = 0\n",
    "        operator = 1 \n",
    "\n",
    "        i = 0\n",
    "        while i < len(tokens):\n",
    "            token = tokens[i]\n",
    "            if token == \"+\":\n",
    "                operator = 1\n",
    "            elif token == \"-\":\n",
    "                operator = -1\n",
    "            else:\n",
    "                current_num = 0\n",
    "                while i < len(tokens) and tokens[i].isdigit():\n",
    "                    current_num = current_num * 10 + int(tokens[i])\n",
    "                    i += 1\n",
    "                stack.append(operator * current_num)\n",
    "            i += 1\n",
    "\n",
    "        result = sum(stack)\n",
    "        return result\n",
    "\n",
    "    try:\n",
    "        result = calculate(list(expression))\n",
    "        return result\n",
    "    except Exception as e:\n",
    "        return f\"Ошибка: {str(e)}\"\n",
    "\n",
    "try:\n",
    "    expression = input(\"Введите выражение (например, '2 + 3 - 1'): \")\n",
    "    result = evaluate_expression(expression)\n",
    "    print(f\"Результат: {result}\")\n",
    "except KeyboardInterrupt:\n",
    "    print(\"\\nПрограмма завершена.\")\n"
   ]
  },
  {
   "cell_type": "markdown",
   "metadata": {},
   "source": [
    "13. Пользователь поочередно вводит 2 строки. Определите, какая строка длиннее и на сколько символов, а какая строка стоит раньше в лексикографическом порядке. Собрать результирующую строку, которая бы содержала 1 и 2 строки, разделенные переносом строки.\n"
   ]
  },
  {
   "cell_type": "code",
   "execution_count": 26,
   "metadata": {},
   "outputs": [
    {
     "name": "stdout",
     "output_type": "stream",
     "text": [
      "Введите первую строку: pidor\n",
      "Введите вторую строку: pidoras\n",
      "Сравнение по длине:\n",
      "Вторая строка длиннее на 2 символов.\n",
      "Сравнение по лексикографическому порядку:\n",
      "Первая строка идет раньше в лексикографическом порядке.\n"
     ]
    }
   ],
   "source": [
    "string1 = input(\"Введите первую строку: \")\n",
    "string2 = input(\"Введите вторую строку: \")\n",
    "\n",
    "length_info = \"\"\n",
    "lexico_info = \"\"\n",
    "\n",
    "if len(string1) > len(string2):\n",
    "    length_info = f\"Первая строка длиннее на {len(string1) - len(string2)} символов.\"\n",
    "elif len(string2) > len(string1):\n",
    "    length_info = f\"Вторая строка длиннее на {len(string2) - len(string1)} символов.\"\n",
    "else:\n",
    "    length_info = \"Обе строки имеют одинаковую длину.\"\n",
    "\n",
    "if string1 < string2:\n",
    "    lexico_info = \"Первая строка идет раньше в лексикографическом порядке.\"\n",
    "elif string2 < string1:\n",
    "    lexico_info = \"Вторая строка идет раньше в лексикографическом порядке.\"\n",
    "else:\n",
    "    lexico_info = \"Обе строки идентичны в лексикографическом порядке.\"\n",
    "\n",
    "result_string = f\"Сравнение по длине:\\n{length_info}\\nСравнение по лексикографическому порядку:\\n{lexico_info}\"\n",
    "\n",
    "if length_info and lexico_info:\n",
    "    result_string += \"\\nОбе строки различаются как по длине, так и в лексикографическом порядке.\"\n",
    "\n",
    "print(result_string)\n",
    "\n"
   ]
  },
  {
   "cell_type": "markdown",
   "metadata": {},
   "source": [
    "14. Реализовать калькулятор, который принимает от пользователя через пробел строку следующего вида: «a op b», где a и b – некоторые числа, а ‘op’ определяет оператор и может принимать значения $«+,-,*,/,**,%»$. В зависимости от оператора с помощью форматирования строк вывести результат в виде: «a + b = 3 + 2 = 5», где была получена строка «3 + 2». Для операций возведения в степень и деления по модулю использовать вместо знака оператора соответствующие выражения. Например, для строки «2 ** 3» должно быть выведено «a в степени b = 2 в степени 3 = 8».\n"
   ]
  },
  {
   "cell_type": "code",
   "execution_count": 29,
   "metadata": {},
   "outputs": [
    {
     "name": "stdout",
     "output_type": "stream",
     "text": [
      "Введите выражение в формате 'a op b' (например, '3 + 2'): 8 ** 2\n",
      "Результат: 8.0 в степени 2.0 = 64.0\n"
     ]
    }
   ],
   "source": [
    "def calculate_expression(expression):\n",
    "    try:\n",
    "        a, op, b = expression.split()\n",
    "        a = float(a)\n",
    "        b = float(b)\n",
    "        result = None\n",
    "        operator = ''\n",
    "\n",
    "        if op == '+':\n",
    "            result = a + b\n",
    "            operator = '+'\n",
    "        elif op == '-':\n",
    "            result = a - b\n",
    "            operator = '-'\n",
    "        elif op == '*':\n",
    "            result = a * b\n",
    "            operator = '*'\n",
    "        elif op == '/':\n",
    "            if b == 0:\n",
    "                return \"Ошибка: Деление на ноль недопустимо.\"\n",
    "            result = a / b\n",
    "            operator = '/'\n",
    "        elif op == '**':\n",
    "            result = a ** b\n",
    "            operator = 'в степени'\n",
    "        else:\n",
    "            return \"Ошибка: Неверный оператор. Поддерживаемые операторы: +, -, *, /, **.\"\n",
    "\n",
    "        return f\"{a} {operator} {b} = {result:.2f}\"\n",
    "\n",
    "    except ValueError:\n",
    "        return \"Ошибка: Неверный формат выражения. Используйте формат 'a op b' (например, '3 + 2').\"\n",
    "    except Exception as e:\n",
    "        return f\"Ошибка: {str(e)}\"\n",
    "\n",
    "\n",
    "expression = input(\"Введите выражение в формате 'a op b' (например, '3 + 2'): \")\n",
    "\n",
    "result = calculate_expression(expression)\n",
    "print(f\"Результат: {result}\")\n",
    "\n"
   ]
  },
  {
   "cell_type": "markdown",
   "metadata": {},
   "source": [
    "15. Напишите программу, которая в зависимости от введенного пользователем числа N, осуществляет вывод N кошек на экран. Пусть 1<= N <=10. Примечание: кошки при N=3 выглядят примерно так\n",
    "```\n",
    "  /\\__/\\  /\\__/\\  /\\__/\\\n",
    "  /@ @\\   /@ @\\   /@ @\\\n",
    " (~~0~~) (~~0~~) (~~0~~)"
   ]
  },
  {
   "cell_type": "code",
   "execution_count": 8,
   "metadata": {},
   "outputs": [
    {
     "ename": "KeyboardInterrupt",
     "evalue": "Interrupted by user",
     "output_type": "error",
     "traceback": [
      "\u001b[1;31m---------------------------------------------------------------------------\u001b[0m",
      "\u001b[1;31mKeyboardInterrupt\u001b[0m                         Traceback (most recent call last)",
      "Cell \u001b[1;32mIn[8], line 11\u001b[0m\n\u001b[0;32m      9\u001b[0m \u001b[38;5;28;01mwhile\u001b[39;00m \u001b[38;5;28;01mTrue\u001b[39;00m:\n\u001b[0;32m     10\u001b[0m     \u001b[38;5;28;01mtry\u001b[39;00m:\n\u001b[1;32m---> 11\u001b[0m         N \u001b[38;5;241m=\u001b[39m \u001b[38;5;28mint\u001b[39m(\u001b[38;5;28minput\u001b[39m(\u001b[38;5;124m\"\u001b[39m\u001b[38;5;124mВведите количество кошек (1-10): \u001b[39m\u001b[38;5;124m\"\u001b[39m))\n\u001b[0;32m     12\u001b[0m         \u001b[38;5;28;01mif\u001b[39;00m \u001b[38;5;241m1\u001b[39m \u001b[38;5;241m<\u001b[39m\u001b[38;5;241m=\u001b[39m N \u001b[38;5;241m<\u001b[39m\u001b[38;5;241m=\u001b[39m \u001b[38;5;241m10\u001b[39m:\n\u001b[0;32m     13\u001b[0m             \u001b[38;5;28;01mbreak\u001b[39;00m\n",
      "File \u001b[1;32mC:\\ProgramData\\anaconda3\\Lib\\site-packages\\ipykernel\\kernelbase.py:1175\u001b[0m, in \u001b[0;36mKernel.raw_input\u001b[1;34m(self, prompt)\u001b[0m\n\u001b[0;32m   1171\u001b[0m \u001b[38;5;28;01mif\u001b[39;00m \u001b[38;5;129;01mnot\u001b[39;00m \u001b[38;5;28mself\u001b[39m\u001b[38;5;241m.\u001b[39m_allow_stdin:\n\u001b[0;32m   1172\u001b[0m     \u001b[38;5;28;01mraise\u001b[39;00m StdinNotImplementedError(\n\u001b[0;32m   1173\u001b[0m         \u001b[38;5;124m\"\u001b[39m\u001b[38;5;124mraw_input was called, but this frontend does not support input requests.\u001b[39m\u001b[38;5;124m\"\u001b[39m\n\u001b[0;32m   1174\u001b[0m     )\n\u001b[1;32m-> 1175\u001b[0m \u001b[38;5;28;01mreturn\u001b[39;00m \u001b[38;5;28mself\u001b[39m\u001b[38;5;241m.\u001b[39m_input_request(\n\u001b[0;32m   1176\u001b[0m     \u001b[38;5;28mstr\u001b[39m(prompt),\n\u001b[0;32m   1177\u001b[0m     \u001b[38;5;28mself\u001b[39m\u001b[38;5;241m.\u001b[39m_parent_ident[\u001b[38;5;124m\"\u001b[39m\u001b[38;5;124mshell\u001b[39m\u001b[38;5;124m\"\u001b[39m],\n\u001b[0;32m   1178\u001b[0m     \u001b[38;5;28mself\u001b[39m\u001b[38;5;241m.\u001b[39mget_parent(\u001b[38;5;124m\"\u001b[39m\u001b[38;5;124mshell\u001b[39m\u001b[38;5;124m\"\u001b[39m),\n\u001b[0;32m   1179\u001b[0m     password\u001b[38;5;241m=\u001b[39m\u001b[38;5;28;01mFalse\u001b[39;00m,\n\u001b[0;32m   1180\u001b[0m )\n",
      "File \u001b[1;32mC:\\ProgramData\\anaconda3\\Lib\\site-packages\\ipykernel\\kernelbase.py:1217\u001b[0m, in \u001b[0;36mKernel._input_request\u001b[1;34m(self, prompt, ident, parent, password)\u001b[0m\n\u001b[0;32m   1214\u001b[0m             \u001b[38;5;28;01mbreak\u001b[39;00m\n\u001b[0;32m   1215\u001b[0m \u001b[38;5;28;01mexcept\u001b[39;00m \u001b[38;5;167;01mKeyboardInterrupt\u001b[39;00m:\n\u001b[0;32m   1216\u001b[0m     \u001b[38;5;66;03m# re-raise KeyboardInterrupt, to truncate traceback\u001b[39;00m\n\u001b[1;32m-> 1217\u001b[0m     \u001b[38;5;28;01mraise\u001b[39;00m \u001b[38;5;167;01mKeyboardInterrupt\u001b[39;00m(\u001b[38;5;124m\"\u001b[39m\u001b[38;5;124mInterrupted by user\u001b[39m\u001b[38;5;124m\"\u001b[39m) \u001b[38;5;28;01mfrom\u001b[39;00m \u001b[38;5;28;01mNone\u001b[39;00m\n\u001b[0;32m   1218\u001b[0m \u001b[38;5;28;01mexcept\u001b[39;00m \u001b[38;5;167;01mException\u001b[39;00m:\n\u001b[0;32m   1219\u001b[0m     \u001b[38;5;28mself\u001b[39m\u001b[38;5;241m.\u001b[39mlog\u001b[38;5;241m.\u001b[39mwarning(\u001b[38;5;124m\"\u001b[39m\u001b[38;5;124mInvalid Message:\u001b[39m\u001b[38;5;124m\"\u001b[39m, exc_info\u001b[38;5;241m=\u001b[39m\u001b[38;5;28;01mTrue\u001b[39;00m)\n",
      "\u001b[1;31mKeyboardInterrupt\u001b[0m: Interrupted by user"
     ]
    }
   ],
   "source": [
    "def draw_cat():\n",
    "    cat = r'''\n",
    " /\\__/\\ \n",
    " /@  @\\ \n",
    " ( ~0~ ) \n",
    "'''\n",
    "    return cat\n",
    "\n",
    "while True:\n",
    "    try:\n",
    "        N = int(input(\"Введите количество кошек (1-10): \"))\n",
    "        if 1 <= N <= 10:\n",
    "            break\n",
    "        else:\n",
    "            print(\"Число должно быть от 1 до 10.\")\n",
    "    except ValueError:\n",
    "        print(\"Пожалуйста, введите целое число.\")\n",
    "\n",
    "\n",
    "for _ in range(N):\n",
    "    print(draw_cat())\n"
   ]
  },
  {
   "cell_type": "markdown",
   "metadata": {},
   "source": [
    "16. Имеются два n – мерных вектора x и y, которые задают координаты n точек на плоскости (случайные целые числа). Найти наиболее близкие друг другу точки."
   ]
  },
  {
   "cell_type": "code",
   "execution_count": 37,
   "metadata": {},
   "outputs": [
    {
     "name": "stdout",
     "output_type": "stream",
     "text": [
      "Введите размерность векторов (n): 2\n",
      "Введите координаты вектора x:\n",
      "1\n",
      "2\n",
      "Введите координаты вектора y:\n",
      "3\n",
      "4\n",
      "Наиболее близкие точки находятся в векторе x: [2]\n",
      "и в векторе y: [3]\n",
      "Расстояние между ними составляет: 1.0\n"
     ]
    }
   ],
   "source": [
    "import math\n",
    "\n",
    "def euclidean_distance(point1, point2):\n",
    "    if len(point1) != len(point2):\n",
    "        raise ValueError(\"Векторы должны иметь одинаковую размерность\")\n",
    "    squared_distance = sum((p1 - p2) ** 2 for p1, p2 in zip(point1, point2))\n",
    "    return math.sqrt(squared_distance)\n",
    "\n",
    "\n",
    "def find_closest_points(vector1, vector2):\n",
    "    min_distance = None\n",
    "    closest_pair = None\n",
    "\n",
    "    for point1 in vector1:\n",
    "        for point2 in vector2:\n",
    "            distance = euclidean_distance(point1, point2)\n",
    "            if min_distance is None or distance < min_distance:\n",
    "                min_distance = distance\n",
    "                closest_pair = (point1, point2)\n",
    "\n",
    "    return closest_pair, min_distance\n",
    "\n",
    "\n",
    "n = int(input(\"Введите размерность векторов (n): \"))\n",
    "\n",
    "\n",
    "vector_x = []\n",
    "vector_y = []\n",
    "\n",
    "print(\"Введите координаты вектора x:\")\n",
    "for _ in range(n):\n",
    "    point = list(map(int, input().split()))\n",
    "    vector_x.append(point)\n",
    "\n",
    "print(\"Введите координаты вектора y:\")\n",
    "for _ in range(n):\n",
    "    point = list(map(int, input().split()))\n",
    "    vector_y.append(point)\n",
    "\n",
    "\n",
    "closest_pair, min_distance = find_closest_points(vector_x, vector_y)\n",
    "\n",
    "\n",
    "print(\"Наиболее близкие точки находятся в векторе x:\", closest_pair[0])\n",
    "print(\"и в векторе y:\", closest_pair[1])\n",
    "print(\"Расстояние между ними составляет:\", min_distance)\n"
   ]
  },
  {
   "cell_type": "markdown",
   "metadata": {},
   "source": [
    "17. Из множества целых чисел от 1 до N выделить множество N2 числа, кратные 2, множество N3 – кратные 3, множество N 6 – кратные 6 (т.е. кратные и 2 и 3), множество N 23 – кратные либо 2, либо 3."
   ]
  },
  {
   "cell_type": "code",
   "execution_count": 38,
   "metadata": {},
   "outputs": [
    {
     "name": "stdout",
     "output_type": "stream",
     "text": [
      "Введите целое число N: 12\n",
      "Множество N2 (кратные 2): {2, 4, 6, 8, 10, 12}\n",
      "Множество N3 (кратные 3): {9, 3, 12, 6}\n",
      "Множество N6 (кратные 6): {12, 6}\n",
      "Множество N23 (кратные 2 или 3): {2, 3, 4, 6, 8, 9, 10, 12}\n"
     ]
    }
   ],
   "source": [
    "N = int(input(\"Введите целое число N: \"))\n",
    "\n",
    "# Создаем множества для кратных 2, 3, 6 и 2 или 3\n",
    "set_N2 = set()\n",
    "set_N3 = set()\n",
    "set_N6 = set()\n",
    "set_N23 = set()\n",
    "\n",
    "# Заполняем множества в соответствии с условиями\n",
    "for number in range(1, N + 1):\n",
    "    if number % 2 == 0:\n",
    "        set_N2.add(number)\n",
    "    if number % 3 == 0:\n",
    "        set_N3.add(number)\n",
    "    if number % 2 == 0 and number % 3 == 0:\n",
    "        set_N6.add(number)\n",
    "    if number % 2 == 0 or number % 3 == 0:\n",
    "        set_N23.add(number)\n",
    "\n",
    "# Выводим множества\n",
    "print(\"Множество N2 (кратные 2):\", set_N2)\n",
    "print(\"Множество N3 (кратные 3):\", set_N3)\n",
    "print(\"Множество N6 (кратные 6):\", set_N6)\n",
    "print(\"Множество N23 (кратные 2 или 3):\", set_N23)\n",
    "\n"
   ]
  },
  {
   "cell_type": "markdown",
   "metadata": {},
   "source": [
    "18. Даны m (m>1) слов. Найти общее количество заданной буквы в этих словах."
   ]
  },
  {
   "cell_type": "code",
   "execution_count": 5,
   "metadata": {},
   "outputs": [
    {
     "name": "stdout",
     "output_type": "stream",
     "text": [
      "Введите список слов, разделенных пробелами: добрый вечер как дела\n",
      "Введите букву, которую вы хотите посчитать: в\n",
      "Буква 'в' встречается 1 раз в заданных словах.\n"
     ]
    }
   ],
   "source": [
    "def count_letter_in_word(word, letter):\n",
    "    return word.count(letter)\n",
    "\n",
    "def count_letter_in_words(words, letter):\n",
    "    total_count = 0\n",
    "    for word in words:\n",
    "        total_count += count_letter_in_word(word, letter)\n",
    "    return total_count\n",
    "\n",
    "# Ввод списка слов и буквы от пользователя\n",
    "word_list = input(\"Введите список слов, разделенных пробелами: \").split()\n",
    "letter = input(\"Введите букву, которую вы хотите посчитать: \")\n",
    "\n",
    "# Подсчет буквы в словах\n",
    "total_count = count_letter_in_words(word_list, letter)\n",
    "\n",
    "# Вывод результата\n",
    "print(f\"Буква '{letter}' встречается {total_count} раз в заданных словах.\")\n"
   ]
  },
  {
   "cell_type": "markdown",
   "metadata": {},
   "source": [
    "19. Даны m (m>1) слов. В каком из них доля (в %) заданной буквы больше."
   ]
  },
  {
   "cell_type": "code",
   "execution_count": 7,
   "metadata": {},
   "outputs": [
    {
     "ename": "SyntaxError",
     "evalue": "expected ':' (3697276009.py, line 5)",
     "output_type": "error",
     "traceback": [
      "\u001b[1;36m  Cell \u001b[1;32mIn[7], line 5\u001b[1;36m\u001b[0m\n\u001b[1;33m    if total_letters > 0\u001b[0m\n\u001b[1;37m                         ^\u001b[0m\n\u001b[1;31mSyntaxError\u001b[0m\u001b[1;31m:\u001b[0m expected ':'\n"
     ]
    }
   ],
   "source": [
    "def letter_percentage_in_word(word, letter):\n",
    "    total_letters = len(word)\n",
    "    letter_count = word.count(letter)\n",
    "    return (letter_count / total_letters) * 100 if total_letters > 0 else 0\n",
    "\n",
    "# Ввод списка слов и буквы от пользователя\n",
    "word_list = input(\"Введите список слов, разделенных пробелами: \").split()\n",
    "letter = input(\"Введите букву, долю которой вы хотите найти: \")\n",
    "\n",
    "max_percentage = 0\n",
    "word_with_max_percentage = \"\"\n",
    "\n",
    "# Поиск слова с наибольшей долей указанной буквы\n",
    "for word in word_list:\n",
    "    percentage = letter_percentage_in_word(word, letter)\n",
    "    if percentage > max_percentage:\n",
    "        max_percentage = percentage\n",
    "        word_with_max_percentage = word\n",
    "\n",
    "# Вывод результата\n",
    "if word_with_max_percentage:\n",
    "    print(f\"Слово с наибольшей долей буквы '{letter}' ({max_percentage:.2f}%) в списке: {word_with_max_percentage}\")\n",
    "else:\n",
    "    print(f\"Буква '{letter}' не найдена в заданных словах.\")\n"
   ]
  },
  {
   "cell_type": "code",
   "execution_count": null,
   "metadata": {},
   "outputs": [],
   "source": []
  }
 ],
 "metadata": {
  "kernelspec": {
   "display_name": "Python 3 (ipykernel)",
   "language": "python",
   "name": "python3"
  },
  "language_info": {
   "codemirror_mode": {
    "name": "ipython",
    "version": 3
   },
   "file_extension": ".py",
   "mimetype": "text/x-python",
   "name": "python",
   "nbconvert_exporter": "python",
   "pygments_lexer": "ipython3",
   "version": "3.11.4"
  },
  "toc": {
   "base_numbering": 1,
   "nav_menu": {},
   "number_sections": true,
   "sideBar": true,
   "skip_h1_title": false,
   "title_cell": "Table of Contents",
   "title_sidebar": "Contents",
   "toc_cell": true,
   "toc_position": {},
   "toc_section_display": true,
   "toc_window_display": false
  },
  "varInspector": {
   "cols": {
    "lenName": 16,
    "lenType": 16,
    "lenVar": 40
   },
   "kernels_config": {
    "python": {
     "delete_cmd_postfix": "",
     "delete_cmd_prefix": "del ",
     "library": "var_list.py",
     "varRefreshCmd": "print(var_dic_list())"
    },
    "r": {
     "delete_cmd_postfix": ") ",
     "delete_cmd_prefix": "rm(",
     "library": "var_list.r",
     "varRefreshCmd": "cat(var_dic_list()) "
    }
   },
   "types_to_exclude": [
    "module",
    "function",
    "builtin_function_or_method",
    "instance",
    "_Feature"
   ],
   "window_display": false
  }
 },
 "nbformat": 4,
 "nbformat_minor": 4
}
