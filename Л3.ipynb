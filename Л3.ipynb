{
 "cells": [
  {
   "cell_type": "markdown",
   "id": "df0f8916-c558-4cb0-b0c5-6038bcb4e99e",
   "metadata": {},
   "source": [
    "1. Имеется список из 20 случайных чисел от 0 до 100. Напишите функцию, которая разбивает этот список на $n$ списков по $k$ элементов и включает все эти списки в новый список. Используйте $k$ в качестве параметра функции."
   ]
  },
  {
   "cell_type": "code",
   "execution_count": 3,
   "id": "59c401b0-1dc3-4941-8c21-3b4b7ee3530f",
   "metadata": {
    "tags": []
   },
   "outputs": [
    {
     "name": "stdout",
     "output_type": "stream",
     "text": [
      "[[12, 45, 67, 89, 23], [56, 78, 90, 34, 67], [23, 45, 78, 98, 32], [65, 23, 54, 76, 89]]\n"
     ]
    }
   ],
   "source": [
    "def split_list(lst, k):\n",
    "    return [lst[i:i+k] for i in range(0, len(lst), k)]\n",
    "\n",
    "original_list = [12, 45, 67, 89, 23, 56, 78, 90, 34, 67, 23, 45, 78, 98, 32, 65, 23, 54, 76, 89]\n",
    "n = 5\n",
    "result = split_list(original_list, n)\n",
    "print(result)"
   ]
  },
  {
   "cell_type": "markdown",
   "id": "c2f1d1e5-9c7f-4a65-8132-ce831b816c58",
   "metadata": {},
   "source": [
    "2. Напишите функцию, вычисляющую факториал числа, передаваемого в качестве параметра.\n"
   ]
  },
  {
   "cell_type": "code",
   "execution_count": 6,
   "id": "5ae1b51a-ecb4-4662-878f-543460e0ae3e",
   "metadata": {
    "tags": []
   },
   "outputs": [
    {
     "name": "stdout",
     "output_type": "stream",
     "text": [
      "Факториал числа 5 равен 120\n"
     ]
    }
   ],
   "source": [
    "def factorial(n):\n",
    "    if n == 0:\n",
    "        return 1\n",
    "    else:\n",
    "        return n * factorial(n - 1)\n",
    "\n",
    "num = 5\n",
    "result = factorial(num)\n",
    "print(f\"Факториал числа {num} равен {result}\")"
   ]
  },
  {
   "cell_type": "markdown",
   "id": "3502df84-4f68-4b80-adad-7baa1820a6a4",
   "metadata": {},
   "source": [
    "3. Написать функцию умножения, принимающую от одного до трех параметров. Функцию вызвать с приведенными ниже аргументами. Для случая a4 выбрать 3 первых и 3 последних значения.\n",
    "a1 = (15, 10 ,5)\n",
    "a2 = (3, 1)\n",
    "a3 = [2, 35, 55]\n",
    "a4 = (5, 10 ,15, 20)"
   ]
  },
  {
   "cell_type": "code",
   "execution_count": 7,
   "id": "7f10aa6c-5f23-41fc-a5f4-f82c786c969e",
   "metadata": {
    "tags": []
   },
   "outputs": [
    {
     "name": "stdout",
     "output_type": "stream",
     "text": [
      "750\n",
      "3\n",
      "3850\n",
      "750\n",
      "3000\n"
     ]
    }
   ],
   "source": [
    "def multiply(a, b=1, c=1):\n",
    "    return a * b * c\n",
    "\n",
    "a1 = (15, 10, 5)\n",
    "a2 = (3, 1)\n",
    "a3 = [2, 35, 55]\n",
    "a4 = (5, 10, 15, 20)\n",
    "\n",
    "result1 = multiply(*a1)\n",
    "result2 = multiply(*a2)\n",
    "result3 = multiply(*a3)\n",
    "result4 = multiply(a4[0], a4[1], a4[2])\n",
    "result5 = multiply(a4[1], a4[2], a4[3])\n",
    "\n",
    "print(result1)\n",
    "print(result2)\n",
    "print(result3)\n",
    "print(result4)\n",
    "print(result5)"
   ]
  },
  {
   "cell_type": "markdown",
   "id": "7bdd9d24-695d-463e-8463-a226488b7384",
   "metadata": {},
   "source": [
    "4. Напишите функцию, которая для заданного радиуса r вычисляет площадь круга и длину окружности. Функция возвращает кортеж из 2 значений."
   ]
  },
  {
   "cell_type": "code",
   "execution_count": 7,
   "id": "096af832-8961-454f-9434-118dd3ede513",
   "metadata": {
    "tags": []
   },
   "outputs": [
    {
     "name": "stdout",
     "output_type": "stream",
     "text": [
      "Площадь круга: 78.53981633974483\n",
      "Длина окружности: 31.41592653589793\n"
     ]
    }
   ],
   "source": [
    "import math\n",
    "\n",
    "def calculate_circle_properties(radius):\n",
    "    area = math.pi * (radius ** 2)\n",
    "    circumference = 2 * math.pi * radius\n",
    "    return area, circumference\n",
    "radius = 5.0  \n",
    "result = calculate_circle_properties(radius)\n",
    "print(\"Площадь круга:\", result[0])\n",
    "print(\"Длина окружности:\", result[1])"
   ]
  },
  {
   "cell_type": "markdown",
   "id": "ff094dd1-eb6c-4add-a6d3-7974d70fb9d0",
   "metadata": {},
   "source": [
    "5. Реализовать функции для выполнения четырех арифметических операций, преобразующих целые числа в целое число. Создать словарь с функциями исоответствующими им симв олами операций. Для двух заранее заданных целых чисел (например, 25 и 4) выполнить выбранную пользователем арифметическую операцию.\n"
   ]
  },
  {
   "cell_type": "code",
   "execution_count": 8,
   "id": "b2dd06af-1154-4311-b94d-c80e2fa0fdce",
   "metadata": {
    "tags": []
   },
   "outputs": [
    {
     "name": "stdout",
     "output_type": "stream",
     "text": [
      "25 + 4 = 29\n"
     ]
    }
   ],
   "source": [
    "def add(a, b):\n",
    "    return a + b\n",
    "\n",
    "def subtract(a, b):\n",
    "    return a - b\n",
    "\n",
    "def multiply(a, b):\n",
    "    return a * b\n",
    "\n",
    "def divide(a, b):\n",
    "    if b == 0:\n",
    "        return \"Деление на ноль!\"\n",
    "    return a / b\n",
    "\n",
    "operations = {\n",
    "    '+': add,\n",
    "    '-': subtract,\n",
    "    '*': multiply,\n",
    "    '/': divide\n",
    "}\n",
    "\n",
    "num1 = 25\n",
    "num2 = 4\n",
    "operator = '+'\n",
    "\n",
    "if operator in operations:\n",
    "    result = operations[operator](num1, num2)\n",
    "    print(f\"{num1} {operator} {num2} = {result}\")\n",
    "else:\n",
    "    print(\"Неподдерживаемая операция\")"
   ]
  },
  {
   "cell_type": "markdown",
   "id": "3117b934-6465-467a-b08a-531b7409df9d",
   "metadata": {},
   "source": [
    "6. Написать калькулятор для строковых выражений вида '<число> <операция> <число>', где <число> - целое число, например 113, <арифметическая операция> - одна из операций `+,-,*,//,%,^`. Пример: `calc('13 - 5') -> 8`"
   ]
  },
  {
   "cell_type": "code",
   "execution_count": 9,
   "id": "cabfcfba-3109-44e6-9932-8d69f35ded0b",
   "metadata": {
    "tags": []
   },
   "outputs": [
    {
     "name": "stdout",
     "output_type": "stream",
     "text": [
      "8\n"
     ]
    }
   ],
   "source": [
    "def calc(expression):\n",
    "    try:\n",
    "        result = eval(expression)\n",
    "        return result\n",
    "    except ZeroDivisionError:\n",
    "        return \"Деление на ноль!\"\n",
    "    except Exception as e:\n",
    "        return str(e)\n",
    "\n",
    "# Пример использования:\n",
    "expression = '13 - 5'\n",
    "result = calc(expression)\n",
    "print(result)"
   ]
  },
  {
   "cell_type": "markdown",
   "id": "bb82c1f6-14df-4165-8f78-879caf8b5a39",
   "metadata": {},
   "source": [
    "7. Написать функцию, которая преобразует целое число (от 0 до 999) из текстового представления на русском языке в число типа int. Пример: `to_int('тридцать три') -> 33`"
   ]
  },
  {
   "cell_type": "code",
   "execution_count": 25,
   "id": "22e861a3-46dc-4ff9-a11c-67b77a743e1b",
   "metadata": {
    "tags": []
   },
   "outputs": [
    {
     "name": "stdout",
     "output_type": "stream",
     "text": [
      "46\n"
     ]
    }
   ],
   "source": [
    "def to_int(text_number):\n",
    "    numbers_dict = {\n",
    "        'ноль': 0, 'один': 1, 'два': 2, 'три': 3, 'четыре': 4, 'пять': 5, 'шесть': 6, 'семь': 7, 'восемь': 8, 'девять': 9,\n",
    "        'десять': 10, 'одиннадцать': 11, 'двенадцать': 12, 'тринадцать': 13, 'четырнадцать': 14, 'пятнадцать': 15,\n",
    "        'шестнадцать': 16, 'семнадцать': 17, 'восемнадцать': 18, 'девятнадцать': 19, 'двадцать': 20, 'тридцать': 30,\n",
    "        'сорок': 40, 'пятьдесят': 50, 'шестьдесят': 60, 'семьдесят': 70, 'восемьдесят': 80, 'девяносто': 90,\n",
    "        'сто': 100, 'двести': 200, 'триста': 300, 'четыреста': 400, 'пятьсот': 500, 'шестьсот': 600, 'семьсот': 700,\n",
    "        'восемьсот': 800, 'девятьсот': 900\n",
    "    }\n",
    "    \n",
    "    words = text_number.split()\n",
    "    total = 0\n",
    "    current_number = 0\n",
    "    \n",
    "    for word in words:\n",
    "        if word in numbers_dict:\n",
    "            current_number += numbers_dict[word]\n",
    "        else:\n",
    "            if current_number == 0:\n",
    "                return -1\n",
    "            total += current_number\n",
    "            current_number = 0\n",
    "\n",
    "    return total + current_number\n",
    "\n",
    "text = 'сорок шесть'\n",
    "result = to_int(text)\n",
    "if result != -1:\n",
    "    print(result)\n",
    "else:\n",
    "    print(\"Ошибка: некорректное расположение в числе.\")"
   ]
  },
  {
   "cell_type": "markdown",
   "id": "beb8fcc4-6e51-4045-8bd1-ad382c401125",
   "metadata": {},
   "source": [
    "8. Написать функцию, которая преобразует целое число (от 0 до 999) из текстового представления на русском языке в число типа int. И сообщает об ошибках (выводит на экран описание типа ошибки и возвращает число -1). Пример: to_int('тридцать три') -> 33 Пример: to_int(\"сто сорок тридцать два сто\") -> -1 Вывод: тридцать - некорректное расположение в числе."
   ]
  },
  {
   "cell_type": "code",
   "execution_count": 5,
   "id": "23a69084-385d-4782-8904-8257ff4adb59",
   "metadata": {
    "tags": []
   },
   "outputs": [
    {
     "name": "stdout",
     "output_type": "stream",
     "text": [
      "32\n"
     ]
    }
   ],
   "source": [
    "def to_int(text_number):\n",
    "    numbers = {\n",
    "        'ноль': 0, 'один': 1, 'два': 2, 'три': 3, 'четыре': 4,\n",
    "        'пять': 5, 'шесть': 6, 'семь': 7, 'восемь': 8, 'девять': 9,\n",
    "        'десять': 10, 'одиннадцать': 11, 'двенадцать': 12, 'тринадцать': 13,\n",
    "        'четырнадцать': 14, 'пятнадцать': 15, 'шестнадцать': 16, 'семнадцать': 17,\n",
    "        'восемнадцать': 18, 'девятнадцать': 19,\n",
    "        'двадцать': 20, 'тридцать': 30, 'сорок': 40, 'пятьдесят': 50,\n",
    "        'шестьдесят': 60, 'семьдесят': 70, 'восемьдесят': 80, 'девяносто': 90,\n",
    "        'сто': 100, 'двести': 200, 'триста': 300, 'четыреста': 400, 'пятьсот': 500,\n",
    "        'шестьсот': 600, 'семьсот': 700, 'восемьсот': 800, 'девятьсот': 900\n",
    "    }\n",
    "\n",
    "    words = text_number.split()\n",
    "    words = [word.lower() for word in words if word.strip()]\n",
    "\n",
    "    total = 0\n",
    "    prev_number = 0\n",
    "    \n",
    "    for word in words:\n",
    "        if word in numbers:\n",
    "            number = numbers[word]\n",
    "            if number > prev_number and 0 < prev_number < 10 and 99 < prev_number < 1000:\n",
    "                print(f\"{word.capitalize()} - некорректное расположение в числе.\")\n",
    "                return -1\n",
    "            total += number\n",
    "            prev_number = number\n",
    "        else:\n",
    "            print(f\"Неизвестное слово: {word.capitalize()}.\")\n",
    "            return -1\n",
    "\n",
    "    return total\n",
    "\n",
    "text_number = 'тридцать два'\n",
    "result = to_int(text_number)\n",
    "if result != -1:\n",
    "    print(result)"
   ]
  },
  {
   "cell_type": "code",
   "execution_count": null,
   "id": "8de359a9-c8da-4193-8fc2-0a0c4ee3b1e0",
   "metadata": {},
   "outputs": [],
   "source": []
  }
 ],
 "metadata": {
  "kernelspec": {
   "display_name": "Python 3 (ipykernel)",
   "language": "python",
   "name": "python3"
  },
  "language_info": {
   "codemirror_mode": {
    "name": "ipython",
    "version": 3
   },
   "file_extension": ".py",
   "mimetype": "text/x-python",
   "name": "python",
   "nbconvert_exporter": "python",
   "pygments_lexer": "ipython3",
   "version": "3.11.4"
  }
 },
 "nbformat": 4,
 "nbformat_minor": 5
}
